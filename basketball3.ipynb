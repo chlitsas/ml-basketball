{
  "nbformat": 4,
  "nbformat_minor": 0,
  "metadata": {
    "colab": {
      "name": "basketball3.ipynb",
      "provenance": [],
      "collapsed_sections": [],
      "authorship_tag": "ABX9TyOAyTbUf0KEqDkexlDMTFVZ",
      "include_colab_link": true
    },
    "kernelspec": {
      "name": "python3",
      "display_name": "Python 3"
    }
  },
  "cells": [
    {
      "cell_type": "markdown",
      "metadata": {
        "id": "view-in-github",
        "colab_type": "text"
      },
      "source": [
        "<a href=\"https://colab.research.google.com/github/chlitsas/ml-basketball/blob/master/basketball3.ipynb\" target=\"_parent\"><img src=\"https://colab.research.google.com/assets/colab-badge.svg\" alt=\"Open In Colab\"/></a>"
      ]
    },
    {
      "cell_type": "code",
      "metadata": {
        "id": "FShfp2XCl8eO",
        "colab_type": "code",
        "colab": {}
      },
      "source": [
        "import sys\n",
        "import pandas as pd\n",
        "import numpy as np\n",
        "from datetime import datetime, timedelta\n",
        "from dateutil.relativedelta import relativedelta\n",
        "from random import random\n",
        "import tensorflow as tf\n",
        "from tensorflow import keras\n",
        "from keras.models import Sequential\n",
        "from keras.layers import Dense\n",
        "from sklearn.model_selection import train_test_split\n"
      ],
      "execution_count": 34,
      "outputs": []
    },
    {
      "cell_type": "code",
      "metadata": {
        "id": "qwHWjukwmAqD",
        "colab_type": "code",
        "colab": {
          "base_uri": "https://localhost:8080/",
          "height": 206
        },
        "outputId": "ffea54e8-3074-4754-f163-0072ffec1304"
      },
      "source": [
        "pd.set_option('display.max_columns', None)\n",
        "\n",
        "data = pd.read_csv(\n",
        "    'https://liveproject-resources.s3.amazonaws.com/other/deeplearningbasketballscores/Games-Calculated.csv',\n",
        "    names=['date', 'home_team', 'home_pts', 'road_team', 'road_pts', 'home_avg_pts_for', 'home_avg_pts_against', 'road_avg_pts_for', 'road_avg_pts_against',  'result']\n",
        "    )\n",
        "data.head()"
      ],
      "execution_count": 5,
      "outputs": [
        {
          "output_type": "execute_result",
          "data": {
            "text/html": [
              "<div>\n",
              "<style scoped>\n",
              "    .dataframe tbody tr th:only-of-type {\n",
              "        vertical-align: middle;\n",
              "    }\n",
              "\n",
              "    .dataframe tbody tr th {\n",
              "        vertical-align: top;\n",
              "    }\n",
              "\n",
              "    .dataframe thead th {\n",
              "        text-align: right;\n",
              "    }\n",
              "</style>\n",
              "<table border=\"1\" class=\"dataframe\">\n",
              "  <thead>\n",
              "    <tr style=\"text-align: right;\">\n",
              "      <th></th>\n",
              "      <th>date</th>\n",
              "      <th>home_team</th>\n",
              "      <th>home_pts</th>\n",
              "      <th>road_team</th>\n",
              "      <th>road_pts</th>\n",
              "      <th>home_avg_pts_for</th>\n",
              "      <th>home_avg_pts_against</th>\n",
              "      <th>road_avg_pts_for</th>\n",
              "      <th>road_avg_pts_against</th>\n",
              "      <th>result</th>\n",
              "    </tr>\n",
              "  </thead>\n",
              "  <tbody>\n",
              "    <tr>\n",
              "      <th>0</th>\n",
              "      <td>2015-11-13</td>\n",
              "      <td>Hawaii</td>\n",
              "      <td>87</td>\n",
              "      <td>Montana State</td>\n",
              "      <td>76</td>\n",
              "      <td>87.0</td>\n",
              "      <td>76.0</td>\n",
              "      <td>76.0</td>\n",
              "      <td>87.0</td>\n",
              "      <td>11</td>\n",
              "    </tr>\n",
              "    <tr>\n",
              "      <th>1</th>\n",
              "      <td>2015-11-13</td>\n",
              "      <td>Eastern Michigan</td>\n",
              "      <td>70</td>\n",
              "      <td>Vermont</td>\n",
              "      <td>50</td>\n",
              "      <td>70.0</td>\n",
              "      <td>50.0</td>\n",
              "      <td>50.0</td>\n",
              "      <td>70.0</td>\n",
              "      <td>20</td>\n",
              "    </tr>\n",
              "    <tr>\n",
              "      <th>2</th>\n",
              "      <td>2015-11-13</td>\n",
              "      <td>Yale</td>\n",
              "      <td>70</td>\n",
              "      <td>Fairfield</td>\n",
              "      <td>57</td>\n",
              "      <td>70.0</td>\n",
              "      <td>57.0</td>\n",
              "      <td>57.0</td>\n",
              "      <td>70.0</td>\n",
              "      <td>13</td>\n",
              "    </tr>\n",
              "    <tr>\n",
              "      <th>3</th>\n",
              "      <td>2015-11-13</td>\n",
              "      <td>Central Michigan</td>\n",
              "      <td>89</td>\n",
              "      <td>Jacksonville State</td>\n",
              "      <td>83</td>\n",
              "      <td>89.0</td>\n",
              "      <td>83.0</td>\n",
              "      <td>83.0</td>\n",
              "      <td>89.0</td>\n",
              "      <td>6</td>\n",
              "    </tr>\n",
              "    <tr>\n",
              "      <th>4</th>\n",
              "      <td>2015-11-13</td>\n",
              "      <td>Iowa State</td>\n",
              "      <td>68</td>\n",
              "      <td>Colorado</td>\n",
              "      <td>62</td>\n",
              "      <td>68.0</td>\n",
              "      <td>62.0</td>\n",
              "      <td>62.0</td>\n",
              "      <td>68.0</td>\n",
              "      <td>6</td>\n",
              "    </tr>\n",
              "  </tbody>\n",
              "</table>\n",
              "</div>"
            ],
            "text/plain": [
              "         date         home_team  home_pts           road_team  road_pts  \\\n",
              "0  2015-11-13            Hawaii        87       Montana State        76   \n",
              "1  2015-11-13  Eastern Michigan        70             Vermont        50   \n",
              "2  2015-11-13              Yale        70           Fairfield        57   \n",
              "3  2015-11-13  Central Michigan        89  Jacksonville State        83   \n",
              "4  2015-11-13        Iowa State        68            Colorado        62   \n",
              "\n",
              "   home_avg_pts_for  home_avg_pts_against  road_avg_pts_for  \\\n",
              "0              87.0                  76.0              76.0   \n",
              "1              70.0                  50.0              50.0   \n",
              "2              70.0                  57.0              57.0   \n",
              "3              89.0                  83.0              83.0   \n",
              "4              68.0                  62.0              62.0   \n",
              "\n",
              "   road_avg_pts_against  result  \n",
              "0                  87.0      11  \n",
              "1                  70.0      20  \n",
              "2                  70.0      13  \n",
              "3                  89.0       6  \n",
              "4                  68.0       6  "
            ]
          },
          "metadata": {
            "tags": []
          },
          "execution_count": 5
        }
      ]
    },
    {
      "cell_type": "code",
      "metadata": {
        "id": "hKonLbKkeN4g",
        "colab_type": "code",
        "colab": {
          "base_uri": "https://localhost:8080/",
          "height": 146
        },
        "outputId": "b1db108e-8829-4d66-e973-d7f038e54440"
      },
      "source": [
        "train, test = train_test_split(data[['home_avg_pts_for', 'home_avg_pts_against', 'road_avg_pts_for', 'road_avg_pts_against', 'result']], test_size=0.2, random_state=42, shuffle=True)\n",
        "\n",
        "train_inputs = train[['home_avg_pts_for', 'home_avg_pts_against', 'road_avg_pts_for', 'road_avg_pts_against']].to_numpy()\n",
        "train_outputs = train[['result']].to_numpy()\n",
        "test_inputs = test[['home_avg_pts_for', 'home_avg_pts_against', 'road_avg_pts_for', 'road_avg_pts_against']].to_numpy()\n",
        "test_outputs = test[['result']].to_numpy()\n",
        "train_inputs"
      ],
      "execution_count": 46,
      "outputs": [
        {
          "output_type": "execute_result",
          "data": {
            "text/plain": [
              "array([[83.16666667, 76.5       , 79.        , 80.33333333],\n",
              "       [82.33333333, 71.33333333, 69.        , 77.        ],\n",
              "       [78.82352941, 61.29411765, 68.7       , 73.35      ],\n",
              "       ...,\n",
              "       [73.        , 57.        , 66.33333333, 69.66666667],\n",
              "       [69.        , 60.        , 58.5       , 86.25      ],\n",
              "       [83.4       , 70.4       , 63.33333333, 70.33333333]])"
            ]
          },
          "metadata": {
            "tags": []
          },
          "execution_count": 46
        }
      ]
    },
    {
      "cell_type": "code",
      "metadata": {
        "id": "HXLAZUf-d0Ga",
        "colab_type": "code",
        "colab": {
          "base_uri": "https://localhost:8080/",
          "height": 72
        },
        "outputId": "33434738-d947-4a5e-975d-7190d125af69"
      },
      "source": [
        "model = Sequential()  \n",
        "#model.add(Dense(1, input_dim=1, activation='relu'))\n",
        "model.add(Dense(units=1, input_shape=[4]))\n",
        "model.add(Dense(units=1, input_shape=[6]))\n",
        "model.add(Dense(units=1, input_shape=[2]))\n",
        "model.compile(loss='mean_squared_error', optimizer=keras.optimizers.Adam(0.1), metrics=['accuracy'])\n",
        "history = model.fit(train_inputs, train_outputs, epochs=20, verbose=False)\n",
        "\n",
        "score, acc = model.evaluate(test_inputs, test_outputs, batch_size=128)\n",
        "print(score)\n",
        "print(acc)\n"
      ],
      "execution_count": 51,
      "outputs": [
        {
          "output_type": "stream",
          "text": [
            "4032/4032 [==============================] - 0s 9us/step\n",
            "106.14087446909102\n",
            "0.0409226194024086\n"
          ],
          "name": "stdout"
        }
      ]
    },
    {
      "cell_type": "code",
      "metadata": {
        "id": "IHB-T_5pmZ2R",
        "colab_type": "code",
        "colab": {
          "base_uri": "https://localhost:8080/",
          "height": 297
        },
        "outputId": "4f46003d-2107-429e-ec41-0dde11d5810f"
      },
      "source": [
        "import matplotlib.pyplot as plt\n",
        "plt.xlabel('Epoch')\n",
        "plt.ylabel('Loss')\n",
        "plt.plot(history.history['loss'])"
      ],
      "execution_count": 52,
      "outputs": [
        {
          "output_type": "execute_result",
          "data": {
            "text/plain": [
              "[<matplotlib.lines.Line2D at 0x7ff0c16b96a0>]"
            ]
          },
          "metadata": {
            "tags": []
          },
          "execution_count": 52
        },
        {
          "output_type": "display_data",
          "data": {
            "image/png": "[encoded data removed]",
            "text/plain": [
              "<Figure size 432x288 with 1 Axes>"
            ]
          },
          "metadata": {
            "tags": [],
            "needs_background": "light"
          }
        }
      ]
    }
  ]
}