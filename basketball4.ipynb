{
  "nbformat": 4,
  "nbformat_minor": 0,
  "metadata": {
    "colab": {
      "name": "basketball4.ipynb",
      "provenance": [],
      "collapsed_sections": [],
      "authorship_tag": "ABX9TyNE8jPluwE1EZVv3oOC7FYH",
      "include_colab_link": true
    },
    "kernelspec": {
      "name": "python3",
      "display_name": "Python 3"
    }
  },
  "cells": [
    {
      "cell_type": "markdown",
      "metadata": {
        "id": "view-in-github",
        "colab_type": "text"
      },
      "source": [
        "<a href=\"https://colab.research.google.com/github/chlitsas/ml-basketball/blob/master/basketball4.ipynb\" target=\"_parent\"><img src=\"https://colab.research.google.com/assets/colab-badge.svg\" alt=\"Open In Colab\"/></a>"
      ]
    },
    {
      "cell_type": "code",
      "metadata": {
        "id": "-8yzi00RNg2U",
        "colab_type": "code",
        "colab": {}
      },
      "source": [
        "import sys\n",
        "import pandas as pd\n",
        "import numpy as np\n",
        "from datetime import datetime, timedelta\n",
        "from dateutil.relativedelta import relativedelta\n",
        "from random import random\n",
        "import tensorflow as tf\n",
        "from tensorflow import keras\n",
        "from keras.models import Sequential\n",
        "from keras.layers import Dense\n",
        "from sklearn.model_selection import train_test_split\n",
        "from sklearn.preprocessing import scale\n",
        "from tensorflow.keras import layers\n",
        "from tensorflow.keras import activations"
      ],
      "execution_count": 12,
      "outputs": []
    },
    {
      "cell_type": "code",
      "metadata": {
        "id": "0j0anv9LNlqu",
        "colab_type": "code",
        "colab": {
          "base_uri": "https://localhost:8080/",
          "height": 206
        },
        "outputId": "c2552aaf-0934-47d2-9871-0403754fe6fb"
      },
      "source": [
        "pd.set_option('display.max_columns', None)\n",
        "\n",
        "data = pd.read_csv(\n",
        "    'https://liveproject-resources.s3.amazonaws.com/other/deeplearningbasketballscores/Games-Calculated.csv',\n",
        "    names=['date', 'home_team', 'home_pts', 'road_team', 'road_pts', 'home_avg_pts_for', 'home_avg_pts_against', 'road_avg_pts_for', 'road_avg_pts_against',  'result']\n",
        "    )\n",
        "data.head()"
      ],
      "execution_count": 2,
      "outputs": [
        {
          "output_type": "execute_result",
          "data": {
            "text/html": [
              "<div>\n",
              "<style scoped>\n",
              "    .dataframe tbody tr th:only-of-type {\n",
              "        vertical-align: middle;\n",
              "    }\n",
              "\n",
              "    .dataframe tbody tr th {\n",
              "        vertical-align: top;\n",
              "    }\n",
              "\n",
              "    .dataframe thead th {\n",
              "        text-align: right;\n",
              "    }\n",
              "</style>\n",
              "<table border=\"1\" class=\"dataframe\">\n",
              "  <thead>\n",
              "    <tr style=\"text-align: right;\">\n",
              "      <th></th>\n",
              "      <th>date</th>\n",
              "      <th>home_team</th>\n",
              "      <th>home_pts</th>\n",
              "      <th>road_team</th>\n",
              "      <th>road_pts</th>\n",
              "      <th>home_avg_pts_for</th>\n",
              "      <th>home_avg_pts_against</th>\n",
              "      <th>road_avg_pts_for</th>\n",
              "      <th>road_avg_pts_against</th>\n",
              "      <th>result</th>\n",
              "    </tr>\n",
              "  </thead>\n",
              "  <tbody>\n",
              "    <tr>\n",
              "      <th>0</th>\n",
              "      <td>2015-11-13</td>\n",
              "      <td>Hawaii</td>\n",
              "      <td>87</td>\n",
              "      <td>Montana State</td>\n",
              "      <td>76</td>\n",
              "      <td>87.0</td>\n",
              "      <td>76.0</td>\n",
              "      <td>76.0</td>\n",
              "      <td>87.0</td>\n",
              "      <td>11</td>\n",
              "    </tr>\n",
              "    <tr>\n",
              "      <th>1</th>\n",
              "      <td>2015-11-13</td>\n",
              "      <td>Eastern Michigan</td>\n",
              "      <td>70</td>\n",
              "      <td>Vermont</td>\n",
              "      <td>50</td>\n",
              "      <td>70.0</td>\n",
              "      <td>50.0</td>\n",
              "      <td>50.0</td>\n",
              "      <td>70.0</td>\n",
              "      <td>20</td>\n",
              "    </tr>\n",
              "    <tr>\n",
              "      <th>2</th>\n",
              "      <td>2015-11-13</td>\n",
              "      <td>Yale</td>\n",
              "      <td>70</td>\n",
              "      <td>Fairfield</td>\n",
              "      <td>57</td>\n",
              "      <td>70.0</td>\n",
              "      <td>57.0</td>\n",
              "      <td>57.0</td>\n",
              "      <td>70.0</td>\n",
              "      <td>13</td>\n",
              "    </tr>\n",
              "    <tr>\n",
              "      <th>3</th>\n",
              "      <td>2015-11-13</td>\n",
              "      <td>Central Michigan</td>\n",
              "      <td>89</td>\n",
              "      <td>Jacksonville State</td>\n",
              "      <td>83</td>\n",
              "      <td>89.0</td>\n",
              "      <td>83.0</td>\n",
              "      <td>83.0</td>\n",
              "      <td>89.0</td>\n",
              "      <td>6</td>\n",
              "    </tr>\n",
              "    <tr>\n",
              "      <th>4</th>\n",
              "      <td>2015-11-13</td>\n",
              "      <td>Iowa State</td>\n",
              "      <td>68</td>\n",
              "      <td>Colorado</td>\n",
              "      <td>62</td>\n",
              "      <td>68.0</td>\n",
              "      <td>62.0</td>\n",
              "      <td>62.0</td>\n",
              "      <td>68.0</td>\n",
              "      <td>6</td>\n",
              "    </tr>\n",
              "  </tbody>\n",
              "</table>\n",
              "</div>"
            ],
            "text/plain": [
              "         date         home_team  home_pts           road_team  road_pts  \\\n",
              "0  2015-11-13            Hawaii        87       Montana State        76   \n",
              "1  2015-11-13  Eastern Michigan        70             Vermont        50   \n",
              "2  2015-11-13              Yale        70           Fairfield        57   \n",
              "3  2015-11-13  Central Michigan        89  Jacksonville State        83   \n",
              "4  2015-11-13        Iowa State        68            Colorado        62   \n",
              "\n",
              "   home_avg_pts_for  home_avg_pts_against  road_avg_pts_for  \\\n",
              "0              87.0                  76.0              76.0   \n",
              "1              70.0                  50.0              50.0   \n",
              "2              70.0                  57.0              57.0   \n",
              "3              89.0                  83.0              83.0   \n",
              "4              68.0                  62.0              62.0   \n",
              "\n",
              "   road_avg_pts_against  result  \n",
              "0                  87.0      11  \n",
              "1                  70.0      20  \n",
              "2                  70.0      13  \n",
              "3                  89.0       6  \n",
              "4                  68.0       6  "
            ]
          },
          "metadata": {
            "tags": []
          },
          "execution_count": 2
        }
      ]
    },
    {
      "cell_type": "code",
      "metadata": {
        "id": "rT_w_kwKNnh9",
        "colab_type": "code",
        "colab": {
          "base_uri": "https://localhost:8080/",
          "height": 146
        },
        "outputId": "0604bd80-a3bc-4ee8-f43e-101de5b18e94"
      },
      "source": [
        "train, test = train_test_split(data[['home_avg_pts_for', 'home_avg_pts_against', 'road_avg_pts_for', 'road_avg_pts_against', 'result']], test_size=0.2, random_state=42, shuffle=True)\n",
        "\n",
        "train_inputs_raw = train[['home_avg_pts_for', 'home_avg_pts_against', 'road_avg_pts_for', 'road_avg_pts_against']].to_numpy()\n",
        "train_outputs_raw = train[['result']].to_numpy()\n",
        "test_inputs_raw = test[['home_avg_pts_for', 'home_avg_pts_against', 'road_avg_pts_for', 'road_avg_pts_against']].to_numpy()\n",
        "test_outputs_raw = test[['result']].to_numpy()\n",
        "train_inputs_raw"
      ],
      "execution_count": 3,
      "outputs": [
        {
          "output_type": "execute_result",
          "data": {
            "text/plain": [
              "array([[83.16666667, 76.5       , 79.        , 80.33333333],\n",
              "       [82.33333333, 71.33333333, 69.        , 77.        ],\n",
              "       [78.82352941, 61.29411765, 68.7       , 73.35      ],\n",
              "       ...,\n",
              "       [73.        , 57.        , 66.33333333, 69.66666667],\n",
              "       [69.        , 60.        , 58.5       , 86.25      ],\n",
              "       [83.4       , 70.4       , 63.33333333, 70.33333333]])"
            ]
          },
          "metadata": {
            "tags": []
          },
          "execution_count": 3
        }
      ]
    },
    {
      "cell_type": "code",
      "metadata": {
        "id": "oZUuyYBJNoNP",
        "colab_type": "code",
        "colab": {
          "base_uri": "https://localhost:8080/",
          "height": 146
        },
        "outputId": "c64a6184-2c15-4410-9c9d-4addb874ec2a"
      },
      "source": [
        "train_inputs = scale(train_inputs_raw, axis=0, with_mean=True, with_std=True, copy=True )\n",
        "test_inputs = scale(test_inputs_raw, axis=0, with_mean=True, with_std=True, copy=True )\n",
        "train_inputs"
      ],
      "execution_count": 4,
      "outputs": [
        {
          "output_type": "execute_result",
          "data": {
            "text/plain": [
              "array([[ 0.64629841,  1.18243785,  1.31115369,  0.56818902],\n",
              "       [ 0.53791296,  0.43812537, -0.07841195,  0.12806477],\n",
              "       [ 0.08141898, -1.00812885, -0.12009891, -0.35387128],\n",
              "       ...,\n",
              "       [-0.67600401, -1.62674149, -0.44896278, -0.84020858],\n",
              "       [-1.19625414, -1.19456006, -1.53745586,  1.34940956],\n",
              "       [ 0.67664633,  0.30366893, -0.86583247, -0.75218373]])"
            ]
          },
          "metadata": {
            "tags": []
          },
          "execution_count": 4
        }
      ]
    },
    {
      "cell_type": "code",
      "metadata": {
        "id": "AX-Tv15COAKT",
        "colab_type": "code",
        "colab": {
          "base_uri": "https://localhost:8080/",
          "height": 146
        },
        "outputId": "e8a3b1ab-d5b7-45fa-e401-b7071f48571f"
      },
      "source": [
        "train_outputs = train_outputs_raw\n",
        "test_outputs = test_outputs_raw\n",
        "train_outputs"
      ],
      "execution_count": 7,
      "outputs": [
        {
          "output_type": "execute_result",
          "data": {
            "text/plain": [
              "array([[14],\n",
              "       [ 8],\n",
              "       [11],\n",
              "       ...,\n",
              "       [-8],\n",
              "       [ 8],\n",
              "       [12]])"
            ]
          },
          "metadata": {
            "tags": []
          },
          "execution_count": 7
        }
      ]
    },
    {
      "cell_type": "code",
      "metadata": {
        "id": "cMjg9VoMNp3j",
        "colab_type": "code",
        "colab": {}
      },
      "source": [
        "class ModelFitCallback(keras.callbacks.Callback):\n",
        "  def on_epoch_end(self, epoch, logs):\n",
        "    if epoch == 0: print('starting', end='')\n",
        "    elif epoch % 10 == 0: print('.', end='')\n",
        "    if epoch % 100 == 0: print('')"
      ],
      "execution_count": 5,
      "outputs": []
    },
    {
      "cell_type": "code",
      "metadata": {
        "id": "eFrtOHSPNsRm",
        "colab_type": "code",
        "colab": {
          "base_uri": "https://localhost:8080/",
          "height": 146
        },
        "outputId": "6b4bb1a0-e8f3-4382-feac-17a92bdc2411"
      },
      "source": [
        "model = Sequential()  \n",
        "#model.add(Dense(1, input_dim=1, activation='relu'))\n",
        "model.add(Dense(units=1, input_shape=[4]))\n",
        "model.add(Dense(units=1, input_shape=[6], activation='relu'))\n",
        "model.add(Dense(units=1, input_shape=[2]))\n",
        "metrics = [\n",
        "      keras.metrics.MeanAbsoluteError(),\n",
        "      keras.metrics.Accuracy(),\n",
        "      keras.metrics.MeanSquaredError()\n",
        "]\n",
        "model.compile(loss='mean_squared_error', optimizer=keras.optimizers.Adam(0.1), metrics=metrics)\n",
        "history = model.fit(train_inputs, train_outputs, epochs=200, validation_split=0.2, verbose=False, callbacks=[ModelFitCallback()])\n",
        "\n",
        "score, acc, x, y = model.evaluate(test_inputs, test_outputs, batch_size=128)\n",
        "print(score)\n",
        "print(acc)\n",
        "print(x)\n",
        "print(y)"
      ],
      "execution_count": 14,
      "outputs": [
        {
          "output_type": "stream",
          "text": [
            "starting\n",
            "..........\n",
            "4032/4032 [==============================] - 0s 7us/step\n",
            "104.60460868714348\n",
            "8.109440803527832\n",
            "0.0\n",
            "108.0337905883789\n"
          ],
          "name": "stdout"
        }
      ]
    },
    {
      "cell_type": "code",
      "metadata": {
        "id": "LHCxRQ7ANt_1",
        "colab_type": "code",
        "colab": {
          "base_uri": "https://localhost:8080/",
          "height": 297
        },
        "outputId": "aaf3ecab-9288-4a02-bd0a-7d51ec804e05"
      },
      "source": [
        "import matplotlib.pyplot as plt\n",
        "plt.xlabel('Epoch')\n",
        "plt.ylabel('Loss')\n",
        "plt.plot(history.history['loss'])"
      ],
      "execution_count": 15,
      "outputs": [
        {
          "output_type": "execute_result",
          "data": {
            "text/plain": [
              "[<matplotlib.lines.Line2D at 0x7faec42c3198>]"
            ]
          },
          "metadata": {
            "tags": []
          },
          "execution_count": 15
        },
        {
          "output_type": "display_data",
          "data": {
            "image/png": "[encoded data removed]",
            "text/plain": [
              "<Figure size 432x288 with 1 Axes>"
            ]
          },
          "metadata": {
            "tags": [],
            "needs_background": "light"
          }
        }
      ]
    },
    {
      "cell_type": "code",
      "metadata": {
        "id": "OuIdsYPdNv3a",
        "colab_type": "code",
        "colab": {
          "base_uri": "https://localhost:8080/",
          "height": 279
        },
        "outputId": "bf4f5b56-0d1c-4ea1-b9e1-4823f4e81dce"
      },
      "source": [
        "hist = pd.DataFrame(history.history)\n",
        "# Create an epoch column and set it to the epoch index\n",
        "hist['epoch'] = history.epoch\n",
        "\n",
        "def plot_history(history):\n",
        "  plt.figure()\n",
        "  plt.xlabel('Epoch')\n",
        "  plt.ylabel('Mean Absolute Error')\n",
        "  plt.plot(history['epoch'], history['mean_absolute_error'],\n",
        "           label='Train Mean Absolute Error')\n",
        "  plt.plot(history['epoch'], history['val_mean_absolute_error'],\n",
        "           label = 'Val Mean Absolute Error')\n",
        "  plt.legend()\n",
        "  #plt.ylim([0,1])\n",
        "  plt.show()\n",
        "\n",
        "plot_history(hist)"
      ],
      "execution_count": 16,
      "outputs": [
        {
          "output_type": "display_data",
          "data": {
            "image/png": "[encoded data removed]",
            "text/plain": [
              "<Figure size 432x288 with 1 Axes>"
            ]
          },
          "metadata": {
            "tags": [],
            "needs_background": "light"
          }
        }
      ]
    }
  ]
}