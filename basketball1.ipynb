{
  "nbformat": 4,
  "nbformat_minor": 0,
  "metadata": {
    "colab": {
      "name": "basketball1.ipynb",
      "provenance": [],
      "collapsed_sections": [],
      "authorship_tag": "ABX9TyMCZpXImpK1RAQJE3TFzznM",
      "include_colab_link": true
    },
    "kernelspec": {
      "name": "python3",
      "display_name": "Python 3"
    }
  },
  "cells": [
    {
      "cell_type": "markdown",
      "metadata": {
        "id": "view-in-github",
        "colab_type": "text"
      },
      "source": [
        "<a href=\"https://colab.research.google.com/github/chlitsas/ml-basketball/blob/master/basketball1.ipynb\" target=\"_parent\"><img src=\"https://colab.research.google.com/assets/colab-badge.svg\" alt=\"Open In Colab\"/></a>"
      ]
    },
    {
      "cell_type": "code",
      "metadata": {
        "id": "0L0bWYwaG24-",
        "colab_type": "code",
        "colab": {
          "base_uri": "https://localhost:8080/",
          "height": 109
        },
        "outputId": "cc0fc2d2-b51b-4bde-85c5-5fc6dbe72b28"
      },
      "source": [
        "import sys\n",
        "import pandas as pd\n",
        "import numpy as np\n",
        "from datetime import datetime, timedelta\n",
        "from dateutil.relativedelta import relativedelta\n",
        "from random import random\n",
        "import tensorflow\n",
        "from tensorflow import keras\n",
        "from keras.models import Sequential\n",
        "from keras.layers import Dense\n",
        "\n",
        "print(\"Python version: \" + str(sys.version))\n",
        "\n",
        "print(\"Pandas version: \" + str(pd.__version__))\n",
        "print(\"Numpy version: \" + str(np.__version__))\n",
        "print(\"Tensorflow version: \" + str(tensorflow.__version__))"
      ],
      "execution_count": 42,
      "outputs": [
        {
          "output_type": "stream",
          "text": [
            "Python version: 3.6.9 (default, Apr 18 2020, 01:56:04) \n",
            "[GCC 8.4.0]\n",
            "Pandas version: 1.0.5\n",
            "Numpy version: 1.18.5\n",
            "Tensorflow version: 2.2.0\n"
          ],
          "name": "stdout"
        }
      ]
    },
    {
      "cell_type": "code",
      "metadata": {
        "id": "lch6xNzDi1KQ",
        "colab_type": "code",
        "colab": {
          "base_uri": "https://localhost:8080/",
          "height": 1000
        },
        "outputId": "8df94fb4-49db-4515-d93e-626648b1e296"
      },
      "source": [
        "final_date = datetime.strptime('2020-12-01', '%Y-%m-%d')\n",
        "dates = [final_date - relativedelta(months=i) for i in range(36)]\n",
        "col1 = [random() for _ in range(36)]\n",
        "col2 = [random() for _ in range(36)]\n",
        "first_dataframe = pd.DataFrame({\n",
        "    'dates': dates,\n",
        "    'col1': col1,\n",
        "    'col2': col2\n",
        "})\n",
        "first_dataframe['col3'] = first_dataframe['col2'] - first_dataframe['col1']\n",
        "print(first_dataframe)\n",
        "\n",
        "df_2020 = first_dataframe[first_dataframe['dates'].dt.year == 2020]\n",
        "print(df_2020)\n",
        "\n",
        "df_2019 = first_dataframe[first_dataframe['dates'].dt.year == 2019]\n",
        "print(df_2019)\n",
        "\n",
        "df_2018 = first_dataframe[first_dataframe['dates'].dt.year == 2018]\n",
        "print(df_2018)"
      ],
      "execution_count": 36,
      "outputs": [
        {
          "output_type": "stream",
          "text": [
            "        dates      col1      col2      col3\n",
            "0  2020-12-01  0.773509  0.184787 -0.588723\n",
            "1  2020-11-01  0.710260  0.810964  0.100703\n",
            "2  2020-10-01  0.879729  0.257402 -0.622327\n",
            "3  2020-09-01  0.287810  0.487460  0.199651\n",
            "4  2020-08-01  0.283130  0.386779  0.103649\n",
            "5  2020-07-01  0.790429  0.630600 -0.159828\n",
            "6  2020-06-01  0.505587  0.232301 -0.273286\n",
            "7  2020-05-01  0.606782  0.230486 -0.376296\n",
            "8  2020-04-01  0.666360  0.745599  0.079239\n",
            "9  2020-03-01  0.212589  0.941911  0.729322\n",
            "10 2020-02-01  0.181367  0.834843  0.653476\n",
            "11 2020-01-01  0.934454  0.599317 -0.335136\n",
            "12 2019-12-01  0.008957  0.998697  0.989740\n",
            "13 2019-11-01  0.175013  0.720793  0.545779\n",
            "14 2019-10-01  0.847024  0.363144 -0.483880\n",
            "15 2019-09-01  0.169612  0.193894  0.024282\n",
            "16 2019-08-01  0.501601  0.899608  0.398007\n",
            "17 2019-07-01  0.369404  0.213175 -0.156229\n",
            "18 2019-06-01  0.434048  0.410320 -0.023728\n",
            "19 2019-05-01  0.478519  0.787823  0.309304\n",
            "20 2019-04-01  0.401700  0.707273  0.305574\n",
            "21 2019-03-01  0.992908  0.140924 -0.851984\n",
            "22 2019-02-01  0.356348  0.602836  0.246488\n",
            "23 2019-01-01  0.022348  0.971259  0.948911\n",
            "24 2018-12-01  0.362378  0.332022 -0.030356\n",
            "25 2018-11-01  0.482057  0.633439  0.151382\n",
            "26 2018-10-01  0.551814  0.138609 -0.413205\n",
            "27 2018-09-01  0.533741  0.167452 -0.366289\n",
            "28 2018-08-01  0.557396  0.267317 -0.290079\n",
            "29 2018-07-01  0.076651  0.390444  0.313793\n",
            "30 2018-06-01  0.590935  0.836841  0.245906\n",
            "31 2018-05-01  0.526404  0.626411  0.100007\n",
            "32 2018-04-01  0.248689  0.089296 -0.159393\n",
            "33 2018-03-01  0.245851  0.222876 -0.022975\n",
            "34 2018-02-01  0.251124  0.010962 -0.240161\n",
            "35 2018-01-01  0.212186  0.816550  0.604364\n",
            "        dates      col1      col2      col3\n",
            "0  2020-12-01  0.773509  0.184787 -0.588723\n",
            "1  2020-11-01  0.710260  0.810964  0.100703\n",
            "2  2020-10-01  0.879729  0.257402 -0.622327\n",
            "3  2020-09-01  0.287810  0.487460  0.199651\n",
            "4  2020-08-01  0.283130  0.386779  0.103649\n",
            "5  2020-07-01  0.790429  0.630600 -0.159828\n",
            "6  2020-06-01  0.505587  0.232301 -0.273286\n",
            "7  2020-05-01  0.606782  0.230486 -0.376296\n",
            "8  2020-04-01  0.666360  0.745599  0.079239\n",
            "9  2020-03-01  0.212589  0.941911  0.729322\n",
            "10 2020-02-01  0.181367  0.834843  0.653476\n",
            "11 2020-01-01  0.934454  0.599317 -0.335136\n",
            "        dates      col1      col2      col3\n",
            "12 2019-12-01  0.008957  0.998697  0.989740\n",
            "13 2019-11-01  0.175013  0.720793  0.545779\n",
            "14 2019-10-01  0.847024  0.363144 -0.483880\n",
            "15 2019-09-01  0.169612  0.193894  0.024282\n",
            "16 2019-08-01  0.501601  0.899608  0.398007\n",
            "17 2019-07-01  0.369404  0.213175 -0.156229\n",
            "18 2019-06-01  0.434048  0.410320 -0.023728\n",
            "19 2019-05-01  0.478519  0.787823  0.309304\n",
            "20 2019-04-01  0.401700  0.707273  0.305574\n",
            "21 2019-03-01  0.992908  0.140924 -0.851984\n",
            "22 2019-02-01  0.356348  0.602836  0.246488\n",
            "23 2019-01-01  0.022348  0.971259  0.948911\n",
            "        dates      col1      col2      col3\n",
            "24 2018-12-01  0.362378  0.332022 -0.030356\n",
            "25 2018-11-01  0.482057  0.633439  0.151382\n",
            "26 2018-10-01  0.551814  0.138609 -0.413205\n",
            "27 2018-09-01  0.533741  0.167452 -0.366289\n",
            "28 2018-08-01  0.557396  0.267317 -0.290079\n",
            "29 2018-07-01  0.076651  0.390444  0.313793\n",
            "30 2018-06-01  0.590935  0.836841  0.245906\n",
            "31 2018-05-01  0.526404  0.626411  0.100007\n",
            "32 2018-04-01  0.248689  0.089296 -0.159393\n",
            "33 2018-03-01  0.245851  0.222876 -0.022975\n",
            "34 2018-02-01  0.251124  0.010962 -0.240161\n",
            "35 2018-01-01  0.212186  0.816550  0.604364\n"
          ],
          "name": "stdout"
        }
      ]
    },
    {
      "cell_type": "code",
      "metadata": {
        "id": "ckKeC86Brol_",
        "colab_type": "code",
        "colab": {
          "base_uri": "https://localhost:8080/",
          "height": 513
        },
        "outputId": "d1458baf-b440-4c4e-b7df-13419692640f"
      },
      "source": [
        "train_celsius = [i/20 for i in range(-1000, 1000)]\n",
        "train_fahreneit = [c * 1.8 + 32 for c in celsius]\n",
        "\n",
        "test_celsius = [i for i in range(-20, 20)]\n",
        "test_fahreneit = [c * 1.8 + 32 for c in celsius]\n",
        "\n",
        "model = Sequential()  \n",
        "model.add(Dense(1, input_dim=1, activation='relu'))\n",
        "model.compile(loss='mse', optimizer='rmsprop')\n",
        "model.fit(train_celsius, train_fahreneit, batch_size=1, nb_epoch=10)\n",
        "\n",
        "y_pred = model.predict([1, 2, 3, 20])\n",
        "print(y_pred)\n",
        "print(model.get_weights())"
      ],
      "execution_count": 67,
      "outputs": [
        {
          "output_type": "stream",
          "text": [
            "/usr/local/lib/python3.6/dist-packages/ipykernel_launcher.py:10: UserWarning: The `nb_epoch` argument in `fit` has been renamed `epochs`.\n",
            "  # Remove the CWD from sys.path while we load stuff.\n"
          ],
          "name": "stderr"
        },
        {
          "output_type": "stream",
          "text": [
            "Epoch 1/10\n",
            "2000/2000 [==============================] - 2s 810us/step - loss: 845.9035\n",
            "Epoch 2/10\n",
            "2000/2000 [==============================] - 2s 805us/step - loss: 539.2961\n",
            "Epoch 3/10\n",
            "2000/2000 [==============================] - 2s 799us/step - loss: 533.8249\n",
            "Epoch 4/10\n",
            "2000/2000 [==============================] - 2s 783us/step - loss: 529.3941\n",
            "Epoch 5/10\n",
            "2000/2000 [==============================] - 2s 803us/step - loss: 524.7557\n",
            "Epoch 6/10\n",
            "2000/2000 [==============================] - 2s 785us/step - loss: 520.5250\n",
            "Epoch 7/10\n",
            "2000/2000 [==============================] - 2s 791us/step - loss: 516.0899\n",
            "Epoch 8/10\n",
            "2000/2000 [==============================] - 2s 761us/step - loss: 511.2453\n",
            "Epoch 9/10\n",
            "2000/2000 [==============================] - 2s 774us/step - loss: 506.6917\n",
            "Epoch 10/10\n",
            "2000/2000 [==============================] - 2s 786us/step - loss: 502.2833\n",
            "[[ 9.111391]\n",
            " [11.687003]\n",
            " [14.262615]\n",
            " [58.04801 ]]\n",
            "[array([[2.5756116]], dtype=float32), array([6.53578], dtype=float32)]\n"
          ],
          "name": "stdout"
        }
      ]
    }
  ]
}