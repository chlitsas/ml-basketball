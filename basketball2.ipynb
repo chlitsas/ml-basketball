{
  "nbformat": 4,
  "nbformat_minor": 0,
  "metadata": {
    "colab": {
      "name": "basketball2.ipynb",
      "provenance": [],
      "collapsed_sections": [],
      "authorship_tag": "ABX9TyPzS+BxvY7KUFnDfOCjwovT",
      "include_colab_link": true
    },
    "kernelspec": {
      "name": "python3",
      "display_name": "Python 3"
    }
  },
  "cells": [
    {
      "cell_type": "markdown",
      "metadata": {
        "id": "view-in-github",
        "colab_type": "text"
      },
      "source": [
        "<a href=\"https://colab.research.google.com/github/chlitsas/ml-basketball/blob/master/basketball2.ipynb\" target=\"_parent\"><img src=\"https://colab.research.google.com/assets/colab-badge.svg\" alt=\"Open In Colab\"/></a>"
      ]
    },
    {
      "cell_type": "code",
      "metadata": {
        "id": "9CwI_ajQb8q4",
        "colab_type": "code",
        "colab": {
          "base_uri": "https://localhost:8080/",
          "height": 35
        },
        "outputId": "09c4665c-d95f-4401-ce80-a52b20c9b24c"
      },
      "source": [
        "import sys\n",
        "import pandas as pd\n",
        "import numpy as np\n",
        "from datetime import datetime, timedelta\n",
        "from dateutil.relativedelta import relativedelta\n",
        "from random import random\n",
        "import tensorflow as tf\n",
        "from tensorflow import keras\n",
        "from keras.models import Sequential\n",
        "from keras.layers import Dense"
      ],
      "execution_count": 2,
      "outputs": [
        {
          "output_type": "stream",
          "text": [
            "Using TensorFlow backend.\n"
          ],
          "name": "stderr"
        }
      ]
    },
    {
      "cell_type": "code",
      "metadata": {
        "id": "8CVjBBzvcNoL",
        "colab_type": "code",
        "colab": {
          "base_uri": "https://localhost:8080/",
          "height": 531
        },
        "outputId": "faa3f9d0-4549-42a0-e40f-c65fb41b2094"
      },
      "source": [
        "raw_teams = pd.read_csv(\n",
        "    'https://liveproject-resources.s3.amazonaws.com/other/deeplearningbasketballscores/Teams.csv',\n",
        "    names=['conference', 'team_name']\n",
        "    )\n",
        "print(raw_teams)\n",
        "\n",
        "raw_games = pd.read_csv(\n",
        "    'https://liveproject-resources.s3.amazonaws.com/other/deeplearningbasketballscores/Games.csv',\n",
        "    names=['date', 'home_team', 'home_pts', 'road_team', 'road_pts']\n",
        "    )\n",
        "raw_games['date'] =  pd.to_datetime(raw_games['date'], format='%Y-%m-%d')\n",
        "\n",
        "print(raw_games)"
      ],
      "execution_count": 3,
      "outputs": [
        {
          "output_type": "stream",
          "text": [
            "           conference              team_name\n",
            "0        America East                Vermont\n",
            "1        America East            Stony Brook\n",
            "2        America East                   UMBC\n",
            "3        America East               Hartford\n",
            "4        America East                 Albany\n",
            "..                ...                    ...\n",
            "348  Western Athletic     California Baptist\n",
            "349  Western Athletic  Cal State Bakersfield\n",
            "350  Western Athletic                Seattle\n",
            "351  Western Athletic                   UMKC\n",
            "352  Western Athletic          Chicago State\n",
            "\n",
            "[353 rows x 2 columns]\n",
            "            date      home_team  home_pts                  road_team  road_pts\n",
            "0     2015-11-13         Hawaii        87                Montana St.        76\n",
            "1     2015-11-13  Eastern Mich.        70                    Vermont        50\n",
            "2     2015-11-13       Columbia       107                       Kean        62\n",
            "3     2015-11-13     La.-Monroe        88                    McMurry        43\n",
            "4     2015-11-13           Yale        70                  Fairfield        57\n",
            "...          ...            ...       ...                        ...       ...\n",
            "23488 2019-03-21        Hampton        81  St. Francis (B&#039;klyn)        72\n",
            "23489 2019-03-21     La.-Monroe        87                 Kent State        77\n",
            "23490 2019-03-21  CSU Fullerton        58            CSU Bakersfield        66\n",
            "23491 2019-03-22  Southern Utah        80                      Drake        73\n",
            "23492 2019-03-22      Creighton        79                    Memphis        67\n",
            "\n",
            "[23493 rows x 5 columns]\n"
          ],
          "name": "stdout"
        }
      ]
    },
    {
      "cell_type": "code",
      "metadata": {
        "id": "yc4yBhZZi1SX",
        "colab_type": "code",
        "colab": {
          "base_uri": "https://localhost:8080/",
          "height": 35
        },
        "outputId": "9d0bf21f-9a20-444c-f6bf-5e4d4d0e21dd"
      },
      "source": [
        "games = raw_games.dropna().copy()\n",
        "teams = raw_teams.dropna().copy()\n",
        "\n",
        "games['home_team'] = games['home_team'].str.strip()\n",
        "games['road_team'] = games['road_team'].str.strip()\n",
        "games['home_team'] = games['home_team'].str.replace('&#039;','\\'')\n",
        "games['road_team'] = games['road_team'].str.replace('&#039;','\\'')\n",
        "games['home_team'] = games['home_team'].str.replace('&amp;','&')\n",
        "games['road_team'] = games['road_team'].str.replace('&amp;','&')\n",
        "games['home_team'] = games['home_team'].str.replace('N.J.','NJ')\n",
        "games['road_team'] = games['road_team'].str.replace('N.J.','NJ')\n",
        "games['home_team'] = games['home_team'].str.replace('N.Y.','NY')\n",
        "games['road_team'] = games['road_team'].str.replace('N.Y.','NY')\n",
        "games['home_team'] = games['home_team'].str.replace('S\\'west','Southwest')\n",
        "games['road_team'] = games['road_team'].str.replace('S\\'west','Southwest')\n",
        "games['home_team'] = games['home_team'].str.replace(' St.',' State')\n",
        "games['road_team'] = games['road_team'].str.replace(' St.',' State')\n",
        "games['home_team'] = games['home_team'].str.replace('Eastern Mich.','Eastern Michigan')\n",
        "games['road_team'] = games['road_team'].str.replace('Eastern Mich.','Eastern Michigan')\n",
        "games['home_team'] = games['home_team'].str.replace('Central Mich.','Central Michigan')\n",
        "games['road_team'] = games['road_team'].str.replace('Central Mich.','Central Michigan')\n",
        "games['home_team'] = games['home_team'].str.replace('La.-Monroe','Louisiana-Monroe')\n",
        "games['road_team'] = games['road_team'].str.replace('La.-Monroe','Louisiana-Monroe')\n",
        "games['home_team'] = games['home_team'].str.replace('Penn','Penn State')\n",
        "games['road_team'] = games['road_team'].str.replace('Penn','Penn State')\n",
        "games['home_team'] = games['home_team'].str.replace('St. John\\'s (NY)','St. John\\'s')\n",
        "games['road_team'] = games['road_team'].str.replace('St. John\\'s (NY)','St. John\\'s')\n",
        "\n",
        "teams['team_name'] = teams['team_name'].str.strip()\n",
        "\n",
        "\n",
        "\n",
        "assert len(games) == games['home_team'].count()\n",
        "assert len(games) == games['road_team'].count()\n",
        "assert len(teams) == teams['team_name'].count()\n",
        "print(len(games))"
      ],
      "execution_count": 105,
      "outputs": [
        {
          "output_type": "stream",
          "text": [
            "23492\n"
          ],
          "name": "stdout"
        }
      ]
    },
    {
      "cell_type": "code",
      "metadata": {
        "id": "gjns_GzIjmIl",
        "colab_type": "code",
        "colab": {}
      },
      "source": [
        "from google.colab import drive\n",
        "#drive.mount('drive')\n",
        "games.to_csv('Games-Calculated.csv')\n",
        "!cp Games-Calculated.csv \"drive/My Drive/\"\n"
      ],
      "execution_count": 109,
      "outputs": []
    },
    {
      "cell_type": "code",
      "metadata": {
        "id": "eCNqbwROnd-0",
        "colab_type": "code",
        "colab": {
          "base_uri": "https://localhost:8080/",
          "height": 424
        },
        "outputId": "ccb8fe4e-6f3e-44d2-826d-67b6b1bbea9b"
      },
      "source": [
        "#teams.team_name.unique()\n",
        "#teams.groupby('team_name')['team_name'].nunique()\n",
        "\n",
        "#games.groupby('home_team')['home_team'].count()\n",
        "#team_names_only_df = pd.DataFrame(games.home_team)\n",
        "#team_names_only_df = pd.DataFrame(games.road_team)\n",
        "#team_names_only_df.shape\n",
        "\n",
        "df = pd.DataFrame({\n",
        "    'team_name': games.home_team.append(games.road_team)\n",
        "    }\n",
        ")\n",
        "df2 = teams.merge(df, left_on='team_name', right_on='team_name', how='outer')\n",
        "unknowns = df2.groupby('team_name')['team_name'].count().reset_index(name='count').sort_values(['count'], ascending=False)\n",
        "\n",
        "df2[df2['team_name'].str.contains('John')].head(200)\n",
        "\n",
        "#teams[teams['team_name'].str.contains('Monroe')].head(200)\n",
        "\n",
        "#games[games['home_team'].str.contains(unknown)]\n",
        "\n",
        "\n",
        "#not existing: []\n",
        "# rename: Youngstown St. -> Youngstown State \n",
        "# rename: Middle Tenn. -> Middle Tennessee\n",
        "\n",
        "#renames = [('Youngstown St.', 'Youngstown State'), ('Middle Tenn.', 'Middle Tennessee'), ('Ohio St.', 'Ohio State')]\n",
        "#for rename in renames:\n",
        "#  games.loc[(games.home_team == rename[0]),'home_team'] = rename[1]\n",
        "#  games.loc[(games.road_team == rename[0]),'road_team'] = rename[1]\n",
        "df2[df2.isna().any(axis=1)]\n"
      ],
      "execution_count": 106,
      "outputs": [
        {
          "output_type": "execute_result",
          "data": {
            "text/html": [
              "<div>\n",
              "<style scoped>\n",
              "    .dataframe tbody tr th:only-of-type {\n",
              "        vertical-align: middle;\n",
              "    }\n",
              "\n",
              "    .dataframe tbody tr th {\n",
              "        vertical-align: top;\n",
              "    }\n",
              "\n",
              "    .dataframe thead th {\n",
              "        text-align: right;\n",
              "    }\n",
              "</style>\n",
              "<table border=\"1\" class=\"dataframe\">\n",
              "  <thead>\n",
              "    <tr style=\"text-align: right;\">\n",
              "      <th></th>\n",
              "      <th>conference</th>\n",
              "      <th>team_name</th>\n",
              "    </tr>\n",
              "  </thead>\n",
              "  <tbody>\n",
              "    <tr>\n",
              "      <th>34843</th>\n",
              "      <td>NaN</td>\n",
              "      <td>St. John's (NY)</td>\n",
              "    </tr>\n",
              "    <tr>\n",
              "      <th>34844</th>\n",
              "      <td>NaN</td>\n",
              "      <td>St. John's (NY)</td>\n",
              "    </tr>\n",
              "    <tr>\n",
              "      <th>34845</th>\n",
              "      <td>NaN</td>\n",
              "      <td>St. John's (NY)</td>\n",
              "    </tr>\n",
              "    <tr>\n",
              "      <th>34846</th>\n",
              "      <td>NaN</td>\n",
              "      <td>St. John's (NY)</td>\n",
              "    </tr>\n",
              "    <tr>\n",
              "      <th>34847</th>\n",
              "      <td>NaN</td>\n",
              "      <td>St. John's (NY)</td>\n",
              "    </tr>\n",
              "    <tr>\n",
              "      <th>...</th>\n",
              "      <td>...</td>\n",
              "      <td>...</td>\n",
              "    </tr>\n",
              "    <tr>\n",
              "      <th>47037</th>\n",
              "      <td>NaN</td>\n",
              "      <td>Lincoln (Pa.)</td>\n",
              "    </tr>\n",
              "    <tr>\n",
              "      <th>47038</th>\n",
              "      <td>NaN</td>\n",
              "      <td>John. &amp; Wales (R.I.)</td>\n",
              "    </tr>\n",
              "    <tr>\n",
              "      <th>47039</th>\n",
              "      <td>NaN</td>\n",
              "      <td>John. &amp; Wales (R.I.)</td>\n",
              "    </tr>\n",
              "    <tr>\n",
              "      <th>47040</th>\n",
              "      <td>NaN</td>\n",
              "      <td>Skidmore</td>\n",
              "    </tr>\n",
              "    <tr>\n",
              "      <th>47041</th>\n",
              "      <td>NaN</td>\n",
              "      <td>Texas A&amp;M-Int'l</td>\n",
              "    </tr>\n",
              "  </tbody>\n",
              "</table>\n",
              "<p>12199 rows × 2 columns</p>\n",
              "</div>"
            ],
            "text/plain": [
              "      conference             team_name\n",
              "34843        NaN       St. John's (NY)\n",
              "34844        NaN       St. John's (NY)\n",
              "34845        NaN       St. John's (NY)\n",
              "34846        NaN       St. John's (NY)\n",
              "34847        NaN       St. John's (NY)\n",
              "...          ...                   ...\n",
              "47037        NaN         Lincoln (Pa.)\n",
              "47038        NaN  John. & Wales (R.I.)\n",
              "47039        NaN  John. & Wales (R.I.)\n",
              "47040        NaN              Skidmore\n",
              "47041        NaN       Texas A&M-Int'l\n",
              "\n",
              "[12199 rows x 2 columns]"
            ]
          },
          "metadata": {
            "tags": []
          },
          "execution_count": 106
        }
      ]
    }
  ]
}